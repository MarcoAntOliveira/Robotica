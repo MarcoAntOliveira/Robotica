{
 "cells": [
  {
   "cell_type": "code",
   "execution_count": 7,
   "id": "2c6b35e3",
   "metadata": {},
   "outputs": [
    {
     "name": "stdout",
     "output_type": "stream",
     "text": [
      "Requirement already satisfied: numpy in ./amb19/lib/python3.10/site-packages (2.2.6)\n",
      "Note: you may need to restart the kernel to use updated packages.\n",
      "Requirement already satisfied: matplotlib in ./amb19/lib/python3.10/site-packages (3.10.3)\n",
      "Requirement already satisfied: pyparsing>=2.3.1 in ./amb19/lib/python3.10/site-packages (from matplotlib) (3.2.3)\n",
      "Requirement already satisfied: fonttools>=4.22.0 in ./amb19/lib/python3.10/site-packages (from matplotlib) (4.59.0)\n",
      "Requirement already satisfied: python-dateutil>=2.7 in ./amb19/lib/python3.10/site-packages (from matplotlib) (2.9.0.post0)\n",
      "Requirement already satisfied: cycler>=0.10 in ./amb19/lib/python3.10/site-packages (from matplotlib) (0.12.1)\n",
      "Requirement already satisfied: packaging>=20.0 in ./amb19/lib/python3.10/site-packages (from matplotlib) (25.0)\n",
      "Requirement already satisfied: contourpy>=1.0.1 in ./amb19/lib/python3.10/site-packages (from matplotlib) (1.3.2)\n",
      "Requirement already satisfied: pillow>=8 in ./amb19/lib/python3.10/site-packages (from matplotlib) (11.3.0)\n",
      "Requirement already satisfied: numpy>=1.23 in ./amb19/lib/python3.10/site-packages (from matplotlib) (2.2.6)\n",
      "Requirement already satisfied: kiwisolver>=1.3.1 in ./amb19/lib/python3.10/site-packages (from matplotlib) (1.4.8)\n",
      "Requirement already satisfied: six>=1.5 in ./amb19/lib/python3.10/site-packages (from python-dateutil>=2.7->matplotlib) (1.17.0)\n",
      "Note: you may need to restart the kernel to use updated packages.\n"
     ]
    }
   ],
   "source": [
    "%pip install numpy\n",
    "%pip install matplotlib\n",
    "import numpy as np\n",
    "import matplotlib.pyplot as plt\n"
   ]
  },
  {
   "cell_type": "code",
   "execution_count": 2,
   "id": "9565f529",
   "metadata": {},
   "outputs": [
    {
     "name": "stdout",
     "output_type": "stream",
     "text": [
      "Theta1 = -29.45°, Theta2 = 112.02°\n"
     ]
    }
   ],
   "source": [
    "\n",
    "\n",
    "def ik_2d(x, y, L1, L2):\n",
    "    r = np.hypot(x, y)\n",
    "    if r > (L1 + L2):\n",
    "        raise ValueError(\"Ponto fora do alcance do braço.\")\n",
    "\n",
    "    cos_theta2 = (x**2 + y**2 - L1**2 - L2**2) / (2 * L1 * L2)\n",
    "    sin_theta2 = np.sqrt(1 - cos_theta2**2)\n",
    "    theta2 = np.arctan2(sin_theta2, cos_theta2)\n",
    "\n",
    "    k1 = L1 + L2 * cos_theta2\n",
    "    k2 = L2 * sin_theta2\n",
    "    theta1 = np.arctan2(y, x) - np.arctan2(k2, k1)\n",
    "\n",
    "    return np.degrees(theta1), np.degrees(theta2)\n",
    "\n",
    "# Exemplo:\n",
    "x_desejado, y_desejado = 1.0, 0.5\n",
    "L1, L2 = 1.0, 1.0\n",
    "\n",
    "theta1, theta2 = ik_2d(x_desejado, y_desejado, L1, L2)\n",
    "print(f\"Theta1 = {theta1:.2f}°, Theta2 = {theta2:.2f}°\")\n"
   ]
  },
  {
   "cell_type": "code",
   "execution_count": 3,
   "id": "90444558",
   "metadata": {},
   "outputs": [],
   "source": [
    "\n",
    "def cinematica_direta(theta1, theta2, L1, L2):\n",
    "    x = L1 * np.cos(theta1) + L2 * np.cos(theta1 + theta2)\n",
    "    y = L1 * np.sin(theta1) + L2 * np.sin(theta1 + theta2)\n",
    "    return x, y\n"
   ]
  },
  {
   "cell_type": "code",
   "execution_count": 4,
   "id": "ccf03ace",
   "metadata": {},
   "outputs": [],
   "source": [
    "def cinematica_inversa(x, y, L1, L2):\n",
    "    r = np.hypot(x, y)\n",
    "    if r > (L1 + L2):\n",
    "        raise ValueError(\"Ponto fora do alcance.\")\n",
    "\n",
    "    cos_theta2 = (x**2 + y**2 - L1**2 - L2**2) / (2 * L1 * L2)\n",
    "    sin_theta2 = np.sqrt(1 - cos_theta2**2)\n",
    "    theta2 = np.arctan2(sin_theta2, cos_theta2)\n",
    "\n",
    "    k1 = L1 + L2 * cos_theta2\n",
    "    k2 = L2 * sin_theta2\n",
    "    theta1 = np.arctan2(y, x) - np.arctan2(k2, k1)\n",
    "\n",
    "    return theta1, theta2\n"
   ]
  },
  {
   "cell_type": "code",
   "execution_count": 12,
   "id": "b0821d66",
   "metadata": {},
   "outputs": [
    {
     "name": "stdout",
     "output_type": "stream",
     "text": [
      "Theta1 = -26.03°, Theta2 = 124.58°\n",
      "Posição recalculada: x = 0.750, y = 0.550\n",
      "Erro: dx = 0.000000, dy = 0.000000\n"
     ]
    }
   ],
   "source": [
    "# Parâmetros do braço\n",
    "L1, L2 = 1.0, 1.0\n",
    "\n",
    "# Ponto desejado\n",
    "x_desejado, y_desejado = 0.75, 0.55\n",
    "\n",
    "# Obter ângulos pela cinemática inversa\n",
    "theta1, theta2 = cinematica_inversa(x_desejado, y_desejado, L1, L2)\n",
    "\n",
    "# Recalcular a posição com a cinemática direta\n",
    "x_calc, y_calc = cinematica_direta(theta1, theta2, L1, L2)\n",
    "\n",
    "# Comparar os resultados\n",
    "erro_x = abs(x_desejado - x_calc)\n",
    "erro_y = abs(y_desejado - y_calc)\n",
    "\n",
    "print(f\"Theta1 = {np.degrees(theta1):.2f}°, Theta2 = {np.degrees(theta2):.2f}°\")\n",
    "print(f\"Posição recalculada: x = {x_calc:.3f}, y = {y_calc:.3f}\")\n",
    "print(f\"Erro: dx = {erro_x:.6f}, dy = {erro_y:.6f}\")\n"
   ]
  },
  {
   "cell_type": "code",
   "execution_count": 13,
   "id": "556dfd02",
   "metadata": {},
   "outputs": [
    {
     "data": {
      "image/png": "[encoded data removed]",
      "text/plain": [
       "<Figure size 640x480 with 1 Axes>"
      ]
     },
     "metadata": {},
     "output_type": "display_data"
    }
   ],
   "source": [
    "def plot_braco(theta1, theta2, L1, L2):\n",
    "    x0, y0 = 0, 0\n",
    "    x1 = L1 * np.cos(theta1)\n",
    "    y1 = L1 * np.sin(theta1)\n",
    "    x2 = x1 + L2 * np.cos(theta1 + theta2)\n",
    "    y2 = y1 + L2 * np.sin(theta1 + theta2)\n",
    "\n",
    "    plt.plot([x0, x1], [y0, y1], 'r-', linewidth=4)\n",
    "    plt.plot([x1, x2], [y1, y2], 'b-', linewidth=4)\n",
    "    plt.plot(x2, y2, 'ko')\n",
    "    plt.xlim(-2, 2)\n",
    "    plt.ylim(-2, 2)\n",
    "    plt.gca().set_aspect('equal')\n",
    "    plt.grid(True)\n",
    "    plt.title(\"Braço Robótico 2D\")\n",
    "    plt.show()\n",
    "\n",
    "plot_braco(theta1, theta2, L1, L2)"
   ]
  },
  {
   "cell_type": "code",
   "execution_count": 14,
   "id": "b6f547b2",
   "metadata": {},
   "outputs": [
    {
     "data": {
      "image/png": "[encoded data removed]",
      "text/plain": [
       "<Figure size 640x480 with 1 Axes>"
      ]
     },
     "metadata": {},
     "output_type": "display_data"
    }
   ],
   "source": [
    "import numpy as np\n",
    "import matplotlib.pyplot as plt\n",
    "import matplotlib.animation as animation\n",
    "\n",
    "# Inicializa estado do drone\n",
    "x = 0\n",
    "y = 0\n",
    "theta = 0  # ângulo de inclinação\n",
    "\n",
    "# Parâmetros físicos\n",
    "g = 9.81\n",
    "m = 1.0\n",
    "L = 0.3\n",
    "\n",
    "# Inicialização da figura\n",
    "fig, ax = plt.subplots()\n",
    "line, = ax.plot([], [], 'ko-', linewidth=4)\n",
    "ax.set_xlim(-2, 2)\n",
    "ax.set_ylim(0, 3)\n",
    "ax.set_aspect('equal')\n",
    "\n",
    "def drone_pos(x, y, theta):\n",
    "    \"\"\"Calcula posições da barra do drone\"\"\"\n",
    "    x1 = x - L * np.cos(theta)\n",
    "    y1 = y - L * np.sin(theta)\n",
    "    x2 = x + L * np.cos(theta)\n",
    "    y2 = y + L * np.sin(theta)\n",
    "    return [x1, x2], [y1, y2]\n",
    "\n",
    "def init():\n",
    "    line.set_data([], [])\n",
    "    return line,\n",
    "\n",
    "def update(frame):\n",
    "    global x, y, theta\n",
    "\n",
    "    # Simulação tosca de movimento\n",
    "    theta += 0.01 * np.sin(frame / 10)\n",
    "    y += 0.01\n",
    "    x += 0.005 * np.cos(frame / 20)\n",
    "\n",
    "    x_line, y_line = drone_pos(x, y, theta)\n",
    "    line.set_data(x_line, y_line)\n",
    "    return line,\n",
    "\n",
    "ani = animation.FuncAnimation(fig, update, init_func=init,\n",
    "                              frames=200, interval=50, blit=True)\n",
    "plt.title(\"Simulação 2D de Drone\")\n",
    "plt.show()\n"
   ]
  }
 ],
 "metadata": {
  "kernelspec": {
   "display_name": "amb19",
   "language": "python",
   "name": "python3"
  },
  "language_info": {
   "codemirror_mode": {
    "name": "ipython",
    "version": 3
   },
   "file_extension": ".py",
   "mimetype": "text/x-python",
   "name": "python",
   "nbconvert_exporter": "python",
   "pygments_lexer": "ipython3",
   "version": "3.10.12"
  }
 },
 "nbformat": 4,
 "nbformat_minor": 5
}
